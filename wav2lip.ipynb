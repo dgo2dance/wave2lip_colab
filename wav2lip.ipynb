{
 "cells": [
  {
   "cell_type": "code",
   "execution_count": 1,
   "id": "701b802f-a21c-48d6-8e6d-9043477e81d6",
   "metadata": {
    "execution": {
     "iopub.execute_input": "2025-04-30T03:34:38.198615Z",
     "iopub.status.busy": "2025-04-30T03:34:38.198333Z",
     "iopub.status.idle": "2025-04-30T03:34:43.667984Z",
     "shell.execute_reply": "2025-04-30T03:34:43.667294Z",
     "shell.execute_reply.started": "2025-04-30T03:34:38.198598Z"
    },
    "tags": []
   },
   "outputs": [
    {
     "name": "stdout",
     "output_type": "stream",
     "text": [
      "正克隆到 'Wav2Lip'...\n",
      "remote: Enumerating objects: 406, done.\u001b[K\n",
      "remote: Counting objects: 100% (2/2), done.\u001b[K\n",
      "remote: Compressing objects: 100% (2/2), done.\u001b[K\n",
      "remote: Total 406 (delta 0), reused 0 (delta 0), pack-reused 404 (from 2)\u001b[K\n",
      "接收对象中: 100% (406/406), 546.35 KiB | 431.00 KiB/s, 完成.\n",
      "处理 delta 中: 100% (225/225), 完成.\n"
     ]
    }
   ],
   "source": [
    "!git clone https://github.com/Rudrabha/Wav2Lip.git"
   ]
  },
  {
   "cell_type": "code",
   "execution_count": 27,
   "id": "0c0d6d47-69e3-45fb-9401-726120d4b771",
   "metadata": {
    "ExecutionIndicator": {
     "show": true
    },
    "execution": {
     "iopub.execute_input": "2025-04-30T04:14:16.652662Z",
     "iopub.status.busy": "2025-04-30T04:14:16.652355Z",
     "iopub.status.idle": "2025-04-30T04:14:16.825994Z",
     "shell.execute_reply": "2025-04-30T04:14:16.825482Z",
     "shell.execute_reply.started": "2025-04-30T04:14:16.652642Z"
    },
    "tags": []
   },
   "outputs": [
    {
     "name": "stdout",
     "output_type": "stream",
     "text": [
      "README.md  wav2lip_gan.pth\n"
     ]
    }
   ],
   "source": [
    "!ls Wav2Lip/checkpoints\n",
    "# !ls"
   ]
  },
  {
   "cell_type": "code",
   "execution_count": 28,
   "id": "70a7ae33-d997-40e3-aaa6-30f0dc3dcde2",
   "metadata": {
    "execution": {
     "iopub.execute_input": "2025-04-30T04:16:02.104501Z",
     "iopub.status.busy": "2025-04-30T04:16:02.104189Z",
     "iopub.status.idle": "2025-04-30T04:16:02.683170Z",
     "shell.execute_reply": "2025-04-30T04:16:02.682499Z",
     "shell.execute_reply.started": "2025-04-30T04:16:02.104483Z"
    },
    "tags": []
   },
   "outputs": [],
   "source": [
    "!cp \"Wav2Lip/face_detection/s3fd.pth\"  Wav2Lip/face_detection/detection/sfd/"
   ]
  },
  {
   "cell_type": "code",
   "execution_count": 16,
   "id": "78de2489-fd80-4590-a290-1969036e7609",
   "metadata": {
    "ExecutionIndicator": {
     "show": false
    },
    "execution": {
     "iopub.execute_input": "2025-04-30T03:55:22.753917Z",
     "iopub.status.busy": "2025-04-30T03:55:22.753608Z",
     "iopub.status.idle": "2025-04-30T03:55:30.830854Z",
     "shell.execute_reply": "2025-04-30T03:55:30.830353Z",
     "shell.execute_reply.started": "2025-04-30T03:55:22.753900Z"
    },
    "tags": []
   },
   "outputs": [
    {
     "name": "stdout",
     "output_type": "stream",
     "text": [
      "Looking in indexes: https://mirrors.cloud.aliyuncs.com/pypi/simple\n",
      "Requirement already satisfied: pip in /usr/local/lib/python3.11/site-packages (23.3.2)\n",
      "Collecting pip\n",
      "  Downloading https://mirrors.cloud.aliyuncs.com/pypi/packages/e0/f0/8a2806114cd36e282823fd4d8e88e3b94dc943c2569c350d0c826a49db38/pip-25.1-py3-none-any.whl (1.8 MB)\n",
      "\u001b[2K     \u001b[90m━━━━━━━━━━━━━━━━━━━━━━━━━━━━━━━━━━━━━━━━\u001b[0m \u001b[32m1.8/1.8 MB\u001b[0m \u001b[31m41.0 MB/s\u001b[0m eta \u001b[36m0:00:00\u001b[0ma \u001b[36m0:00:01\u001b[0m\n",
      "\u001b[?25h\u001b[33mDEPRECATION: pytorch-lightning 1.7.7 has a non-standard dependency specifier torch>=1.9.*. pip 24.0 will enforce this behaviour change. A possible replacement is to upgrade to a newer version of pytorch-lightning or contact the author to suggest that they release a version with a conforming dependency specifiers. Discussion can be found at https://github.com/pypa/pip/issues/12063\u001b[0m\u001b[33m\n",
      "\u001b[0m\u001b[33mDEPRECATION: omegaconf 2.0.6 has a non-standard dependency specifier PyYAML>=5.1.*. pip 24.0 will enforce this behaviour change. A possible replacement is to upgrade to a newer version of omegaconf or contact the author to suggest that they release a version with a conforming dependency specifiers. Discussion can be found at https://github.com/pypa/pip/issues/12063\u001b[0m\u001b[33m\n",
      "\u001b[0mInstalling collected packages: pip\n",
      "  Attempting uninstall: pip\n",
      "    Found existing installation: pip 23.3.2\n",
      "    Uninstalling pip-23.3.2:\n",
      "      Successfully uninstalled pip-23.3.2\n",
      "Successfully installed pip-25.1\n",
      "\u001b[33mWARNING: Running pip as the 'root' user can result in broken permissions and conflicting behaviour with the system package manager. It is recommended to use a virtual environment instead: https://pip.pypa.io/warnings/venv\u001b[0m\u001b[33m\n",
      "\u001b[0mLooking in indexes: https://mirrors.cloud.aliyuncs.com/pypi/simple\n",
      "Collecting librosa==0.7.0 (from -r requirements.txt (line 1))\n",
      "  Using cached https://mirrors.cloud.aliyuncs.com/pypi/packages/ad/6e/0eb0de1c9c4e02df0b40e56f258eb79bd957be79b918511a184268e01720/librosa-0.7.0.tar.gz (1.6 MB)\n",
      "  Preparing metadata (setup.py) ... \u001b[?25ldone\n",
      "\u001b[?25hCollecting numpy==1.17.1 (from -r requirements.txt (line 2))\n",
      "  Using cached https://mirrors.cloud.aliyuncs.com/pypi/packages/cb/79/96df883cd6df0c86cb010e6f4ff790b7a30a45016a9509c94ea72c8695cd/numpy-1.17.1.zip (6.5 MB)\n",
      "  Preparing metadata (setup.py) ... \u001b[?25ldone\n",
      "\u001b[?25hCollecting opencv-contrib-python>=4.2.0.34 (from -r requirements.txt (line 3))\n",
      "  Using cached https://mirrors.cloud.aliyuncs.com/pypi/packages/f7/13/756b13b8d5d417a0b4c3bf6ceafb59df0ed05cec7fedc2490bbbf5e60ebc/opencv_contrib_python-4.11.0.86-cp37-abi3-manylinux_2_17_x86_64.manylinux2014_x86_64.whl (69.1 MB)\n",
      "\u001b[31mERROR: Ignored the following yanked versions: 3.4.11.39, 3.4.17.61, 4.4.0.42, 4.4.0.44, 4.5.4.58, 4.5.5.62, 4.7.0.68\u001b[0m\u001b[31m\n",
      "\u001b[0m\u001b[31mERROR: Ignored the following versions that require a different python version: 1.21.2 Requires-Python >=3.7,<3.11; 1.21.3 Requires-Python >=3.7,<3.11; 1.21.4 Requires-Python >=3.7,<3.11; 1.21.5 Requires-Python >=3.7,<3.11; 1.21.6 Requires-Python >=3.7,<3.11\u001b[0m\u001b[31m\n",
      "\u001b[0m\u001b[31mERROR: Could not find a version that satisfies the requirement opencv-python==4.1.0.25 (from versions: 3.4.0.14, 3.4.10.37, 3.4.11.41, 3.4.11.43, 3.4.11.45, 3.4.13.47, 3.4.15.55, 3.4.16.57, 3.4.16.59, 3.4.17.63, 3.4.18.65, 4.3.0.38, 4.4.0.40, 4.4.0.46, 4.5.1.48, 4.5.3.56, 4.5.4.60, 4.5.5.64, 4.6.0.66, 4.7.0.72, 4.8.0.74, 4.8.0.76, 4.8.1.78, 4.9.0.80, 4.10.0.82, 4.10.0.84, 4.11.0.86)\u001b[0m\u001b[31m\n",
      "\u001b[0m\u001b[31mERROR: No matching distribution found for opencv-python==4.1.0.25\u001b[0m\u001b[31m\n",
      "\u001b[0m"
     ]
    }
   ],
   "source": [
    "!pip install --upgrade pip\n",
    "!cd Wav2Lip && pip install -r requirements-.txt"
   ]
  },
  {
   "cell_type": "code",
   "execution_count": 19,
   "id": "86ead5d5-4586-4dfe-a410-6d8c15fe3934",
   "metadata": {
    "execution": {
     "iopub.execute_input": "2025-04-30T03:58:39.099642Z",
     "iopub.status.busy": "2025-04-30T03:58:39.099263Z",
     "iopub.status.idle": "2025-04-30T03:58:46.892412Z",
     "shell.execute_reply": "2025-04-30T03:58:46.891852Z",
     "shell.execute_reply.started": "2025-04-30T03:58:39.099617Z"
    },
    "tags": []
   },
   "outputs": [
    {
     "name": "stdout",
     "output_type": "stream",
     "text": [
      "--2025-04-30 11:58:39--  https://www.adrianbulat.com/downloads/python-fan/s3fd-619a316812.pth\n",
      "正在解析主机 www.adrianbulat.com (www.adrianbulat.com)... 失败：域名解析出现暂时性错误。\n",
      "wget: 无法解析主机地址 ‘www.adrianbulat.com’\n"
     ]
    }
   ],
   "source": [
    "!wget \"https://www.adrianbulat.com/downloads/python-fan/s3fd-619a316812.pth\" -O \"Wav2Lip/face_detection/detection/sfd/s3fd.pth\"\n"
   ]
  },
  {
   "cell_type": "code",
   "execution_count": 29,
   "id": "f8ce9456-4769-4220-964a-48b024582fef",
   "metadata": {
    "ExecutionIndicator": {
     "show": true
    },
    "execution": {
     "iopub.execute_input": "2025-04-30T04:16:16.074127Z",
     "iopub.status.busy": "2025-04-30T04:16:16.073850Z",
     "iopub.status.idle": "2025-04-30T04:20:05.853975Z",
     "shell.execute_reply": "2025-04-30T04:20:05.853483Z",
     "shell.execute_reply.started": "2025-04-30T04:16:16.074106Z"
    },
    "tags": []
   },
   "outputs": [
    {
     "name": "stdout",
     "output_type": "stream",
     "text": [
      "Using cpu for inference.\n",
      "Number of frames available for inference: 1\n",
      "Extracting raw audio...\n",
      "ffmpeg version 4.4.2-0ubuntu0.22.04.1 Copyright (c) 2000-2021 the FFmpeg developers\n",
      "  built with gcc 11 (Ubuntu 11.2.0-19ubuntu1)\n",
      "  configuration: --prefix=/usr --extra-version=0ubuntu0.22.04.1 --toolchain=hardened --libdir=/usr/lib/x86_64-linux-gnu --incdir=/usr/include/x86_64-linux-gnu --arch=amd64 --enable-gpl --disable-stripping --enable-gnutls --enable-ladspa --enable-libaom --enable-libass --enable-libbluray --enable-libbs2b --enable-libcaca --enable-libcdio --enable-libcodec2 --enable-libdav1d --enable-libflite --enable-libfontconfig --enable-libfreetype --enable-libfribidi --enable-libgme --enable-libgsm --enable-libjack --enable-libmp3lame --enable-libmysofa --enable-libopenjpeg --enable-libopenmpt --enable-libopus --enable-libpulse --enable-librabbitmq --enable-librubberband --enable-libshine --enable-libsnappy --enable-libsoxr --enable-libspeex --enable-libsrt --enable-libssh --enable-libtheora --enable-libtwolame --enable-libvidstab --enable-libvorbis --enable-libvpx --enable-libwebp --enable-libx265 --enable-libxml2 --enable-libxvid --enable-libzimg --enable-libzmq --enable-libzvbi --enable-lv2 --enable-omx --enable-openal --enable-opencl --enable-opengl --enable-sdl2 --enable-pocketsphinx --enable-librsvg --enable-libmfx --enable-libdc1394 --enable-libdrm --enable-libiec61883 --enable-chromaprint --enable-frei0r --enable-libx264 --enable-shared\n",
      "  libavutil      56. 70.100 / 56. 70.100\n",
      "  libavcodec     58.134.100 / 58.134.100\n",
      "  libavformat    58. 76.100 / 58. 76.100\n",
      "  libavdevice    58. 13.100 / 58. 13.100\n",
      "  libavfilter     7.110.100 /  7.110.100\n",
      "  libswscale      5.  9.100 /  5.  9.100\n",
      "  libswresample   3.  9.100 /  3.  9.100\n",
      "  libpostproc    55.  9.100 / 55.  9.100\n",
      "\u001b[0;35m[mp3 @ 0x561d3685f3c0] \u001b[0m\u001b[0;33mEstimating duration from bitrate, this may be inaccurate\n",
      "\u001b[0mInput #0, mp3, from 'jifen.mp3':\n",
      "  Duration: 00:00:37.15, start: 0.000000, bitrate: 128 kb/s\n",
      "  Stream #0:0: Audio: mp3, 24000 Hz, mono, fltp, 128 kb/s\n",
      "Stream mapping:\n",
      "  Stream #0:0 -> #0:0 (mp3 (mp3float) -> pcm_s16le (native))\n",
      "Press [q] to stop, [?] for help\n",
      "Output #0, wav, to 'temp/temp.wav':\n",
      "  Metadata:\n",
      "    ISFT            : Lavf58.76.100\n",
      "  Stream #0:0: Audio: pcm_s16le ([1][0][0][0] / 0x0001), 24000 Hz, mono, s16, 384 kb/s\n",
      "    Metadata:\n",
      "      encoder         : Lavc58.134.100 pcm_s16le\n",
      "size=    1742kB time=00:00:37.12 bitrate= 384.3kbits/s speed=1.29e+03x    \n",
      "video:0kB audio:1742kB subtitle:0kB other streams:0kB global headers:0kB muxing overhead: 0.004374%\n",
      "(80, 2973)\n",
      "Length of mel chunks: 926\n",
      "  0%|                                                     | 0/8 [00:00<?, ?it/s]\n",
      "  0%|                                                     | 0/1 [00:00<?, ?it/s]\u001b[A\n",
      "100%|█████████████████████████████████████████████| 1/1 [00:10<00:00, 10.10s/it]\u001b[A\n",
      "Load checkpoint from: checkpoints/wav2lip_gan.pth\n",
      "Model loaded\n",
      "100%|█████████████████████████████████████████████| 8/8 [03:43<00:00, 27.91s/it]\n",
      "ffmpeg version 4.4.2-0ubuntu0.22.04.1 Copyright (c) 2000-2021 the FFmpeg developers\n",
      "  built with gcc 11 (Ubuntu 11.2.0-19ubuntu1)\n",
      "  configuration: --prefix=/usr --extra-version=0ubuntu0.22.04.1 --toolchain=hardened --libdir=/usr/lib/x86_64-linux-gnu --incdir=/usr/include/x86_64-linux-gnu --arch=amd64 --enable-gpl --disable-stripping --enable-gnutls --enable-ladspa --enable-libaom --enable-libass --enable-libbluray --enable-libbs2b --enable-libcaca --enable-libcdio --enable-libcodec2 --enable-libdav1d --enable-libflite --enable-libfontconfig --enable-libfreetype --enable-libfribidi --enable-libgme --enable-libgsm --enable-libjack --enable-libmp3lame --enable-libmysofa --enable-libopenjpeg --enable-libopenmpt --enable-libopus --enable-libpulse --enable-librabbitmq --enable-librubberband --enable-libshine --enable-libsnappy --enable-libsoxr --enable-libspeex --enable-libsrt --enable-libssh --enable-libtheora --enable-libtwolame --enable-libvidstab --enable-libvorbis --enable-libvpx --enable-libwebp --enable-libx265 --enable-libxml2 --enable-libxvid --enable-libzimg --enable-libzmq --enable-libzvbi --enable-lv2 --enable-omx --enable-openal --enable-opencl --enable-opengl --enable-sdl2 --enable-pocketsphinx --enable-librsvg --enable-libmfx --enable-libdc1394 --enable-libdrm --enable-libiec61883 --enable-chromaprint --enable-frei0r --enable-libx264 --enable-shared\n",
      "  libavutil      56. 70.100 / 56. 70.100\n",
      "  libavcodec     58.134.100 / 58.134.100\n",
      "  libavformat    58. 76.100 / 58. 76.100\n",
      "  libavdevice    58. 13.100 / 58. 13.100\n",
      "  libavfilter     7.110.100 /  7.110.100\n",
      "  libswscale      5.  9.100 /  5.  9.100\n",
      "  libswresample   3.  9.100 /  3.  9.100\n",
      "  libpostproc    55.  9.100 / 55.  9.100\n",
      "\u001b[0;33mGuessed Channel Layout for Input Stream #0.0 : mono\n",
      "\u001b[0mInput #0, wav, from 'temp/temp.wav':\n",
      "  Metadata:\n",
      "    encoder         : Lavf58.76.100\n",
      "  Duration: 00:00:37.15, bitrate: 384 kb/s\n",
      "  Stream #0:0: Audio: pcm_s16le ([1][0][0][0] / 0x0001), 24000 Hz, mono, s16, 384 kb/s\n",
      "Input #1, avi, from 'temp/result.avi':\n",
      "  Metadata:\n",
      "    software        : Lavf59.27.100\n",
      "  Duration: 00:00:37.04, start: 0.000000, bitrate: 980 kb/s\n",
      "  Stream #1:0: Video: mpeg4 (Simple Profile) (DIVX / 0x58564944), yuv420p, 774x1280 [SAR 1:1 DAR 387:640], 975 kb/s, 25 fps, 25 tbr, 25 tbn, 25 tbc\n",
      "Stream mapping:\n",
      "  Stream #1:0 -> #0:0 (mpeg4 (native) -> h264 (libx264))\n",
      "  Stream #0:0 -> #0:1 (pcm_s16le (native) -> aac (native))\n",
      "Press [q] to stop, [?] for help\n",
      "\u001b[1;36m[libx264 @ 0x555869207780] \u001b[0m\u001b[0;33m-qscale is ignored, -crf is recommended.\n",
      "\u001b[0m\u001b[1;36m[libx264 @ 0x555869207780] \u001b[0musing SAR=1/1\n",
      "\u001b[1;36m[libx264 @ 0x555869207780] \u001b[0musing cpu capabilities: MMX2 SSE2Fast SSSE3 SSE4.2 AVX FMA3 BMI2 AVX2 AVX512\n",
      "\u001b[1;36m[libx264 @ 0x555869207780] \u001b[0mprofile High, level 3.2, 4:2:0, 8-bit\n",
      "\u001b[1;36m[libx264 @ 0x555869207780] \u001b[0m264 - core 163 r3060 5db6aa6 - H.264/MPEG-4 AVC codec - Copyleft 2003-2021 - http://www.videolan.org/x264.html - options: cabac=1 ref=3 deblock=1:0:0 analyse=0x3:0x113 me=hex subme=7 psy=1 psy_rd=1.00:0.00 mixed_ref=1 me_range=16 chroma_me=1 trellis=1 8x8dct=1 cqm=0 deadzone=21,11 fast_pskip=1 chroma_qp_offset=-2 threads=40 lookahead_threads=6 sliced_threads=0 nr=0 decimate=1 interlaced=0 bluray_compat=0 constrained_intra=0 bframes=3 b_pyramid=2 b_adapt=1 b_bias=0 direct=1 weightb=1 open_gop=0 weightp=2 keyint=250 keyint_min=25 scenecut=40 intra_refresh=0 rc_lookahead=40 rc=crf mbtree=1 crf=23.0 qcomp=0.60 qpmin=0 qpmax=69 qpstep=4 ip_ratio=1.40 aq=1:1.00\n",
      "Output #0, mp4, to 'results/result_voice.mp4':\n",
      "  Metadata:\n",
      "    encoder         : Lavf58.76.100\n",
      "  Stream #0:0: Video: h264 (avc1 / 0x31637661), yuv420p(progressive), 774x1280 [SAR 1:1 DAR 387:640], q=2-31, 25 fps, 12800 tbn\n",
      "    Metadata:\n",
      "      encoder         : Lavc58.134.100 libx264\n",
      "    Side data:\n",
      "      cpb: bitrate max/min/avg: 0/0/0 buffer size: 0 vbv_delay: N/A\n",
      "  Stream #0:1: Audio: aac (LC) (mp4a / 0x6134706D), 24000 Hz, mono, fltp, 69 kb/s\n",
      "    Metadata:\n",
      "      encoder         : Lavc58.134.100 aac\n",
      "frame=  926 fps=323 q=-1.0 Lsize=    1020kB time=00:00:37.12 bitrate= 225.0kbits/s speed=  13x    \n",
      "video:672kB audio:324kB subtitle:0kB other streams:0kB global headers:0kB muxing overhead: 2.389758%\n",
      "\u001b[1;36m[libx264 @ 0x555869207780] \u001b[0mframe I:4     Avg QP:14.43  size: 57694\n",
      "\u001b[1;36m[libx264 @ 0x555869207780] \u001b[0mframe P:234   Avg QP:15.76  size:   943\n",
      "\u001b[1;36m[libx264 @ 0x555869207780] \u001b[0mframe B:688   Avg QP:22.65  size:   343\n",
      "\u001b[1;36m[libx264 @ 0x555869207780] \u001b[0mconsecutive B-frames:  0.6%  0.6%  0.6% 98.1%\n",
      "\u001b[1;36m[libx264 @ 0x555869207780] \u001b[0mmb I  I16..4: 14.8% 76.3%  8.9%\n",
      "\u001b[1;36m[libx264 @ 0x555869207780] \u001b[0mmb P  I16..4:  0.1%  0.5%  0.0%  P16..4:  3.3%  0.8%  0.6%  0.0%  0.0%    skip:94.7%\n",
      "\u001b[1;36m[libx264 @ 0x555869207780] \u001b[0mmb B  I16..4:  0.1%  0.3%  0.0%  B16..8:  4.4%  0.2%  0.0%  direct: 0.0%  skip:95.1%  L0:49.3% L1:49.7% BI: 0.9%\n",
      "\u001b[1;36m[libx264 @ 0x555869207780] \u001b[0m8x8 transform intra:78.8% inter:92.0%\n",
      "\u001b[1;36m[libx264 @ 0x555869207780] \u001b[0mcoded y,uvDC,uvAC intra: 50.7% 52.1% 18.7% inter: 0.4% 0.5% 0.0%\n",
      "\u001b[1;36m[libx264 @ 0x555869207780] \u001b[0mi16 v,h,dc,p: 26% 50% 15%  9%\n",
      "\u001b[1;36m[libx264 @ 0x555869207780] \u001b[0mi8 v,h,dc,ddl,ddr,vr,hd,vl,hu: 22% 21% 39%  3%  2%  2%  3%  5%  3%\n",
      "\u001b[1;36m[libx264 @ 0x555869207780] \u001b[0mi4 v,h,dc,ddl,ddr,vr,hd,vl,hu: 37% 33% 10%  3%  5%  3%  4%  3%  2%\n",
      "\u001b[1;36m[libx264 @ 0x555869207780] \u001b[0mi8c dc,h,v,p: 41% 31% 23%  5%\n",
      "\u001b[1;36m[libx264 @ 0x555869207780] \u001b[0mWeighted P-Frames: Y:0.0% UV:0.0%\n",
      "\u001b[1;36m[libx264 @ 0x555869207780] \u001b[0mref P L0: 62.3%  6.6% 20.4% 10.7%\n",
      "\u001b[1;36m[libx264 @ 0x555869207780] \u001b[0mref B L0: 76.9% 19.3%  3.7%\n",
      "\u001b[1;36m[libx264 @ 0x555869207780] \u001b[0mref B L1: 96.1%  3.9%\n",
      "\u001b[1;36m[libx264 @ 0x555869207780] \u001b[0mkb/s:148.47\n",
      "\u001b[1;36m[aac @ 0x5558692144c0] \u001b[0mQavg: 846.227\n",
      "\u001b[0m"
     ]
    }
   ],
   "source": [
    "!cd Wav2Lip && python inference.py --checkpoint_path checkpoints/wav2lip_gan.pth --face \"mmms.jpeg\" --audio \"jifen.mp3\"\n"
   ]
  },
  {
   "cell_type": "code",
   "execution_count": 9,
   "id": "e4976e25-6e2a-4041-960b-98e0394ee52d",
   "metadata": {
    "ExecutionIndicator": {
     "show": true
    },
    "execution": {
     "iopub.execute_input": "2025-04-30T03:46:32.741760Z",
     "iopub.status.busy": "2025-04-30T03:46:32.741456Z",
     "iopub.status.idle": "2025-04-30T03:46:33.802596Z",
     "shell.execute_reply": "2025-04-30T03:46:33.801861Z",
     "shell.execute_reply.started": "2025-04-30T03:46:32.741743Z"
    },
    "tags": []
   },
   "outputs": [],
   "source": [
    "!cp \"Wav2Lip/wav2lip_gan.pth\"  Wav2Lip/checkpoints"
   ]
  }
 ],
 "metadata": {
  "kernelspec": {
   "display_name": "Python 3 (ipykernel)",
   "language": "python",
   "name": "python3"
  },
  "language_info": {
   "codemirror_mode": {
    "name": "ipython",
    "version": 3
   },
   "file_extension": ".py",
   "mimetype": "text/x-python",
   "name": "python",
   "nbconvert_exporter": "python",
   "pygments_lexer": "ipython3",
   "version": "3.11.11"
  }
 },
 "nbformat": 4,
 "nbformat_minor": 5
}
